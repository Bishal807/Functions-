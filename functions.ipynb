{
  "nbformat": 4,
  "nbformat_minor": 0,
  "metadata": {
    "colab": {
      "provenance": []
    },
    "kernelspec": {
      "name": "python3",
      "display_name": "Python 3"
    },
    "language_info": {
      "name": "python"
    }
  },
  "cells": [
    {
      "cell_type": "code",
      "execution_count": null,
      "metadata": {
        "id": "8KVDeu95oSoQ"
      },
      "outputs": [],
      "source": [
        "                                                                 #theory questions\n",
        "\n",
        "#1.What is the difference between a function and a method in Python?\n",
        "\n",
        "#A function is a block of code that performs a specific task and can be called independently. Functions are defined using the def keyword.\n",
        "#A method is similar to a function but is associated with an object and can access or modify the object’s attributes. Methods are defined inside classes.\n",
        "#Example:\n",
        "# Function\n",
        "def greet(name):\n",
        "    return f\"Hello, {name}!\"\n",
        "\n",
        "print(greet(\"Alice\"))\n",
        "\n",
        "# Method\n",
        "class Greeter:\n",
        "    def greet(self, name):\n",
        "        return f\"Hello, {name}!\"\n",
        "\n",
        "greeter = Greeter()\n",
        "print(greeter.greet(\"Alice\"))\n",
        "#2.Explain the concept of function arguments and parameters in Python.\n",
        "\n",
        "#Parameters are variables defined in the function definition. They act as placeholders.\n",
        "#Arguments are the actual values passed to a function when it is called.\n",
        "#Example:\n",
        "def add(a, b):  # a and b are parameters\n",
        "    return a + b\n",
        "\n",
        "print(add(2, 3))  # 2 and 3 are arguments\n",
        "#3.What are the different ways to define and call a function in Python?\n",
        "\n",
        "#Functions can be defined using def and can be called by their name followed by parentheses. Functions can also be anonymous (lambda functions).\n",
        "#Example:\n",
        "# Regular function\n",
        "def square(x):\n",
        "    return x * x\n",
        "\n",
        "print(square(4))\n",
        "\n",
        "# Lambda function\n",
        "square = lambda x: x * x\n",
        "print(square(4))\n",
        "#4.What is the purpose of the return statement in a Python function?\n",
        "\n",
        "#The return statement is used to send a result back to the caller of the function. Without it, a function will return None by default.\n",
        "#Example:\n",
        "def multiply(a, b):\n",
        "    return a * b\n",
        "\n",
        "result = multiply(3, 5)\n",
        "print(result)\n",
        "#5.What are iterators in Python and how do they differ from iterables?\n",
        "\n",
        "#Iterables are objects that can be looped over (e.g., lists, tuples). They implement the __iter__ method.\n",
        "\n",
        "#Iterators are objects obtained from iterables using iter(). They have a __next__ method to fetch items.\n",
        "#Example:\n",
        "my_list = [1, 2, 3]\n",
        "iterator = iter(my_list)\n",
        "print(next(iterator))  # Outputs: 1\n",
        "#6.Explain the concept of generators in Python and how they are defined.\n",
        "\n",
        "#A generator is a special type of iterator that is defined using a function with the yield statement. Generators produce values lazily, meaning they generate values on demand instead of storing them in memory.\n",
        "#Example:\n",
        "def generate_numbers():\n",
        "    for i in range(5):\n",
        "        yield i\n",
        "\n",
        "gen = generate_numbers()\n",
        "print(next(gen))  # Outputs: 0\n",
        "print(next(gen))  # Outputs: 1\n",
        "#7.What are the advantages of using generators over regular functions?\n",
        "\n",
        "#Generators use less memory as they yield items one at a time.\n",
        "#They are efficient for handling large datasets.\n",
        "#Generators allow for creating infinite sequences.\n",
        "\n",
        "#8.What is a lambda function in Python and when is it typically used?\n",
        "\n",
        "#A lambda function is an anonymous, single-expression function. It is used when a small function is required temporarily.\n",
        "#Example:\n",
        "square = lambda x: x * x\n",
        "print(square(5))  # Outputs: 25\n",
        "#9.Explain the purpose and usage of the map() function in Python.\n",
        "\n",
        "#The map() function applies a specified function to each item in an iterable and returns an iterator with the results.\n",
        "#Example:\n",
        "numbers = [1, 2, 3]\n",
        "squares = map(lambda x: x * x, numbers)\n",
        "print(list(squares))  # Outputs: [1, 4, 9]\n",
        "#10.What is the difference between map(), reduce(), and filter() functions in Python?\n",
        "\n",
        "#map(): Transforms each item in an iterable.\n",
        "#filter(): Filters items in an iterable based on a condition.\n",
        "#reduce(): Aggregates items in an iterable into a single value.\n",
        "#Example:\n",
        "from functools import reduce\n",
        "\n",
        "# map()\n",
        "numbers = [1, 2, 3]\n",
        "squares = list(map(lambda x: x * x, numbers))\n",
        "\n",
        "# filter()\n",
        "even_numbers = list(filter(lambda x: x % 2 == 0, numbers))\n",
        "\n",
        "# reduce()\n",
        "sum_numbers = reduce(lambda x, y: x + y, numbers)\n",
        "\n",
        "print(squares, even_numbers, sum_numbers)  # Outputs: [1, 4, 9] [2] 6\n",
        "\n",
        "\n",
        "\n"
      ]
    },
    {
      "cell_type": "code",
      "source": [
        "                                                 # practical questions"
      ],
      "metadata": {
        "id": "BGwaJUmGrkBX"
      },
      "execution_count": null,
      "outputs": []
    },
    {
      "cell_type": "code",
      "source": [
        "#1.Write a Python function that takes a list of numbers as input and returns the sum of all even numbers in the list.\n",
        "\n",
        "def sum_even_numbers(numbers):\n",
        "    return sum(x for x in numbers if x % 2 == 0)\n",
        "\n",
        "print(sum_even_numbers([1, 2, 3, 4, 5, 6]))\n",
        "\n"
      ],
      "metadata": {
        "colab": {
          "base_uri": "https://localhost:8080/"
        },
        "id": "V9_9geEFr3ww",
        "outputId": "acb9d449-0dce-42dc-b4b9-4812db63439d"
      },
      "execution_count": 7,
      "outputs": [
        {
          "output_type": "stream",
          "name": "stdout",
          "text": [
            "12\n"
          ]
        }
      ]
    },
    {
      "cell_type": "code",
      "source": [
        "#2.Create a Python function that accepts a string and returns the reverse of that string?\n",
        "def reverse_string(s):\n",
        "    return s[::-1]\n",
        "\n",
        "print(reverse_string(\"hello\"))\n"
      ],
      "metadata": {
        "colab": {
          "base_uri": "https://localhost:8080/"
        },
        "id": "Q8OHf4keswnn",
        "outputId": "c9602da1-65ff-43ee-8a73-cdbebb3a2a7f"
      },
      "execution_count": 8,
      "outputs": [
        {
          "output_type": "stream",
          "name": "stdout",
          "text": [
            "olleh\n"
          ]
        }
      ]
    },
    {
      "cell_type": "code",
      "source": [
        "#3.Implement a Python function that takes a list of integers and returns a new list containing the squares of each number?\n",
        "def square_numbers(numbers):\n",
        "    return [x ** 2 for x in numbers]\n",
        "\n",
        "print(square_numbers([1, 2, 3, 4]))\n"
      ],
      "metadata": {
        "colab": {
          "base_uri": "https://localhost:8080/"
        },
        "id": "qoRbLBtZs4Y_",
        "outputId": "344ccadd-275a-450e-fb64-11ef60b6da38"
      },
      "execution_count": 9,
      "outputs": [
        {
          "output_type": "stream",
          "name": "stdout",
          "text": [
            "[1, 4, 9, 16]\n"
          ]
        }
      ]
    },
    {
      "cell_type": "code",
      "source": [
        "#4.Write a Python function that checks if a given number is prime or not from 1 to 200?\n",
        "\n",
        "def is_prime(n):\n",
        "    if n < 2:\n",
        "        return False\n",
        "    for i in range(2, int(n ** 0.5) + 1):\n",
        "        if n % i == 0:\n",
        "            return False\n",
        "    return True\n",
        "\n",
        "primes = [x for x in range(1, 201) if is_prime(x)]\n",
        "print(primes)\n"
      ],
      "metadata": {
        "colab": {
          "base_uri": "https://localhost:8080/"
        },
        "id": "YljYHfHQtB23",
        "outputId": "93f26bfc-0565-4eb7-b40b-e8ac590d967e"
      },
      "execution_count": 10,
      "outputs": [
        {
          "output_type": "stream",
          "name": "stdout",
          "text": [
            "[2, 3, 5, 7, 11, 13, 17, 19, 23, 29, 31, 37, 41, 43, 47, 53, 59, 61, 67, 71, 73, 79, 83, 89, 97, 101, 103, 107, 109, 113, 127, 131, 137, 139, 149, 151, 157, 163, 167, 173, 179, 181, 191, 193, 197, 199]\n"
          ]
        }
      ]
    },
    {
      "cell_type": "code",
      "source": [
        "#Create an iterator class in Python that generates the Fibonacci sequence up to a specified number of terms?\n",
        "class Fibonacci:\n",
        "    def __init__(self, n):\n",
        "        self.n = n\n",
        "        self.current = 0\n",
        "        self.next = 1\n",
        "        self.count = 0\n",
        "\n",
        "    def __iter__(self):\n",
        "        return self\n",
        "\n",
        "    def __next__(self):\n",
        "        if self.count >= self.n:\n",
        "            raise StopIteration\n",
        "        result = self.current\n",
        "        self.current, self.next = self.next, self.current + self.next\n",
        "        self.count += 1\n",
        "        return result\n",
        "\n",
        "fib = Fibonacci(10)\n",
        "print(list(fib))\n"
      ],
      "metadata": {
        "colab": {
          "base_uri": "https://localhost:8080/"
        },
        "id": "XkE8KyGrtHf3",
        "outputId": "b1bb2167-41b4-4c71-efad-3be1248d465a"
      },
      "execution_count": 11,
      "outputs": [
        {
          "output_type": "stream",
          "name": "stdout",
          "text": [
            "[0, 1, 1, 2, 3, 5, 8, 13, 21, 34]\n"
          ]
        }
      ]
    },
    {
      "cell_type": "code",
      "source": [
        "#6.Write a generator function in Python that yields the powers of 2 up to a given exponent?\n",
        "def powers_of_two(max_exp):\n",
        "    for exp in range(max_exp + 1):\n",
        "        yield 2 ** exp\n",
        "\n",
        "print(list(powers_of_two(5)))\n"
      ],
      "metadata": {
        "colab": {
          "base_uri": "https://localhost:8080/"
        },
        "id": "xgOeYRZRtRBO",
        "outputId": "da977bee-4686-47ff-f8cb-292e86ae2e2c"
      },
      "execution_count": 12,
      "outputs": [
        {
          "output_type": "stream",
          "name": "stdout",
          "text": [
            "[1, 2, 4, 8, 16, 32]\n"
          ]
        }
      ]
    },
    {
      "cell_type": "code",
      "source": [
        "#7.Implement a generator function that reads a file line by line and yields each line as a string?\n",
        "def read_file_line_by_line(file_path):\n",
        "    with open(file_path, 'r') as file:\n",
        "        for line in file:\n",
        "            yield line.strip()\n",
        "\n",
        "\n",
        "\n"
      ],
      "metadata": {
        "id": "kHMd1D5ttZPH"
      },
      "execution_count": 15,
      "outputs": []
    },
    {
      "cell_type": "code",
      "source": [
        "#8.Use a lambda function in Python to sort a list of tuples based on the second element of each tuple?\n",
        "tuples = [(1, 3), (4, 1), (2, 2)]\n",
        "sorted_tuples = sorted(tuples, key=lambda x: x[1])\n",
        "print(sorted_tuples)  # Outputs: [(4, 1), (2, 2), (1, 3)]\n"
      ],
      "metadata": {
        "colab": {
          "base_uri": "https://localhost:8080/"
        },
        "id": "UTtbeYCjt1Au",
        "outputId": "609ac0cd-85cd-4bed-8cc0-00ad4fc4044f"
      },
      "execution_count": 16,
      "outputs": [
        {
          "output_type": "stream",
          "name": "stdout",
          "text": [
            "[(4, 1), (2, 2), (1, 3)]\n"
          ]
        }
      ]
    },
    {
      "cell_type": "code",
      "source": [
        "#9.Write a Python program that uses map() to convert a list of temperatures from Celsius to Fahrenheit?\n",
        "def remove_vowels(s):\n",
        "    return ''.join(filter(lambda x: x.lower() not in 'aeiou', s))\n",
        "\n",
        "print(remove_vowels(\"hello world\"))  # Outputs: \"hll wrld\"\n"
      ],
      "metadata": {
        "colab": {
          "base_uri": "https://localhost:8080/"
        },
        "id": "IZSCFQFruEl2",
        "outputId": "688e51bc-6d90-40b9-a8cf-d0cf68cd1806"
      },
      "execution_count": 17,
      "outputs": [
        {
          "output_type": "stream",
          "name": "stdout",
          "text": [
            "hll wrld\n"
          ]
        }
      ]
    },
    {
      "cell_type": "code",
      "source": [
        "#10.Create a Python program that uses filter() to remove all the vowels from a given string?\n",
        "def remove_vowels(s):\n",
        "    return ''.join(filter(lambda x: x.lower() not in 'aeiou', s))\n",
        "\n",
        "print(remove_vowels(\"hello world\"))  # Outputs: \"hll wrld\"\n"
      ],
      "metadata": {
        "colab": {
          "base_uri": "https://localhost:8080/"
        },
        "id": "uwc8LMPEuOOm",
        "outputId": "724ab8a0-9a64-4248-b569-bd336d255ee7"
      },
      "execution_count": 18,
      "outputs": [
        {
          "output_type": "stream",
          "name": "stdout",
          "text": [
            "hll wrld\n"
          ]
        }
      ]
    },
    {
      "cell_type": "code",
      "source": [
        "#11.Write a Python program that returns a list with 2-tuples. Each tuple consists of the order number and the product of the price per item and the quantity, increased by €10 if the value of the order is smaller than €100?\n",
        "orders = [\n",
        "    [34587, 4, 40.95],\n",
        "    [98762, 5, 56.80],\n",
        "    [77226, 3, 32.00],\n",
        "    [88112, 3, 24.50],\n",
        "]\n",
        "\n",
        "result = list(\n",
        "    map(\n",
        "        lambda x: (x[0], x[1] * x[2] + (10 if x[1] * x[2] < 100 else 0)),\n",
        "        orders,\n",
        "    )\n",
        ")\n",
        "print(result)\n",
        "# Outputs: [(34587, 173.8), (98762, 284.0), (77226, 106.0), (88112, 83.5)]\n"
      ],
      "metadata": {
        "colab": {
          "base_uri": "https://localhost:8080/"
        },
        "id": "a5UZXh4xuZOe",
        "outputId": "2caf4329-501e-42ce-8879-f1b4d30a2b81"
      },
      "execution_count": 19,
      "outputs": [
        {
          "output_type": "stream",
          "name": "stdout",
          "text": [
            "[(34587, 163.8), (98762, 284.0), (77226, 106.0), (88112, 83.5)]\n"
          ]
        }
      ]
    }
  ]
}